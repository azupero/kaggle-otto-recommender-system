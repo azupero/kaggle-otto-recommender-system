{
 "cells": [
  {
   "attachments": {},
   "cell_type": "markdown",
   "metadata": {},
   "source": [
    "# exp001\n",
    "- ref: [OTTO-MORS: aid Frequency Baseline](https://www.kaggle.com/code/ttahara/otto-mors-aid-frequency-baseline)"
   ]
  },
  {
   "cell_type": "code",
   "execution_count": 1,
   "metadata": {},
   "outputs": [],
   "source": [
    "import numpy as np\n",
    "import pandas as pd\n",
    "\n",
    "from pathlib import Path\n",
    "from collections import Counter\n",
    "from tqdm.auto import tqdm"
   ]
  },
  {
   "cell_type": "code",
   "execution_count": 2,
   "metadata": {},
   "outputs": [
    {
     "data": {
      "text/html": [
       "<div>\n",
       "<style scoped>\n",
       "    .dataframe tbody tr th:only-of-type {\n",
       "        vertical-align: middle;\n",
       "    }\n",
       "\n",
       "    .dataframe tbody tr th {\n",
       "        vertical-align: top;\n",
       "    }\n",
       "\n",
       "    .dataframe thead th {\n",
       "        text-align: right;\n",
       "    }\n",
       "</style>\n",
       "<table border=\"1\" class=\"dataframe\">\n",
       "  <thead>\n",
       "    <tr style=\"text-align: right;\">\n",
       "      <th></th>\n",
       "      <th>session</th>\n",
       "      <th>aid</th>\n",
       "      <th>ts</th>\n",
       "      <th>type</th>\n",
       "    </tr>\n",
       "  </thead>\n",
       "  <tbody>\n",
       "    <tr>\n",
       "      <th>0</th>\n",
       "      <td>12899779</td>\n",
       "      <td>59625</td>\n",
       "      <td>1661724000278</td>\n",
       "      <td>clicks</td>\n",
       "    </tr>\n",
       "    <tr>\n",
       "      <th>1</th>\n",
       "      <td>12899780</td>\n",
       "      <td>1142000</td>\n",
       "      <td>1661724000378</td>\n",
       "      <td>clicks</td>\n",
       "    </tr>\n",
       "    <tr>\n",
       "      <th>2</th>\n",
       "      <td>12899780</td>\n",
       "      <td>582732</td>\n",
       "      <td>1661724058352</td>\n",
       "      <td>clicks</td>\n",
       "    </tr>\n",
       "    <tr>\n",
       "      <th>3</th>\n",
       "      <td>12899780</td>\n",
       "      <td>973453</td>\n",
       "      <td>1661724109199</td>\n",
       "      <td>clicks</td>\n",
       "    </tr>\n",
       "    <tr>\n",
       "      <th>4</th>\n",
       "      <td>12899780</td>\n",
       "      <td>736515</td>\n",
       "      <td>1661724136868</td>\n",
       "      <td>clicks</td>\n",
       "    </tr>\n",
       "    <tr>\n",
       "      <th>...</th>\n",
       "      <td>...</td>\n",
       "      <td>...</td>\n",
       "      <td>...</td>\n",
       "      <td>...</td>\n",
       "    </tr>\n",
       "    <tr>\n",
       "      <th>244438</th>\n",
       "      <td>14571577</td>\n",
       "      <td>1141710</td>\n",
       "      <td>1662328774770</td>\n",
       "      <td>clicks</td>\n",
       "    </tr>\n",
       "    <tr>\n",
       "      <th>244439</th>\n",
       "      <td>14571578</td>\n",
       "      <td>519105</td>\n",
       "      <td>1662328775009</td>\n",
       "      <td>clicks</td>\n",
       "    </tr>\n",
       "    <tr>\n",
       "      <th>244440</th>\n",
       "      <td>14571579</td>\n",
       "      <td>739876</td>\n",
       "      <td>1662328775605</td>\n",
       "      <td>clicks</td>\n",
       "    </tr>\n",
       "    <tr>\n",
       "      <th>244441</th>\n",
       "      <td>14571580</td>\n",
       "      <td>202353</td>\n",
       "      <td>1662328781067</td>\n",
       "      <td>clicks</td>\n",
       "    </tr>\n",
       "    <tr>\n",
       "      <th>244442</th>\n",
       "      <td>14571581</td>\n",
       "      <td>1100210</td>\n",
       "      <td>1662328791563</td>\n",
       "      <td>clicks</td>\n",
       "    </tr>\n",
       "  </tbody>\n",
       "</table>\n",
       "<p>6928123 rows × 4 columns</p>\n",
       "</div>"
      ],
      "text/plain": [
       "         session      aid             ts    type\n",
       "0       12899779    59625  1661724000278  clicks\n",
       "1       12899780  1142000  1661724000378  clicks\n",
       "2       12899780   582732  1661724058352  clicks\n",
       "3       12899780   973453  1661724109199  clicks\n",
       "4       12899780   736515  1661724136868  clicks\n",
       "...          ...      ...            ...     ...\n",
       "244438  14571577  1141710  1662328774770  clicks\n",
       "244439  14571578   519105  1662328775009  clicks\n",
       "244440  14571579   739876  1662328775605  clicks\n",
       "244441  14571580   202353  1662328781067  clicks\n",
       "244442  14571581  1100210  1662328791563  clicks\n",
       "\n",
       "[6928123 rows x 4 columns]"
      ]
     },
     "execution_count": 2,
     "metadata": {},
     "output_type": "execute_result"
    }
   ],
   "source": [
    "input_dir = Path(\"../../input\")\n",
    "phase = \"test\"\n",
    "dfs = []\n",
    "for path in sorted(list(input_dir.glob(f\"{phase}_parquet/*.parquet\"))):\n",
    "    dfs.append(pd.read_parquet(path))\n",
    "df = pd.concat(dfs, axis=0)\n",
    "df"
   ]
  },
  {
   "cell_type": "markdown",
   "metadata": {},
   "source": [
    "### count aid frequency by session"
   ]
  },
  {
   "cell_type": "code",
   "execution_count": 17,
   "metadata": {},
   "outputs": [
    {
     "data": {
      "application/vnd.jupyter.widget-view+json": {
       "model_id": "6646cf5afd1049069a21d0abf3557978",
       "version_major": 2,
       "version_minor": 0
      },
      "text/plain": [
       "  0%|          | 0/1671803 [00:00<?, ?it/s]"
      ]
     },
     "metadata": {},
     "output_type": "display_data"
    }
   ],
   "source": [
    "sorted_ids_list = []\n",
    "\n",
    "for session_id, group in tqdm(df.groupby(\"session\")):\n",
    "    aid_list = group[\"aid\"].to_list()\n",
    "    cnt = Counter(aid_list)\n",
    "    sorted_aids = sorted(set(aid_list), key=lambda x: cnt[x], reverse=True)\n",
    "    sorted_ids_list.append([session_id, sorted_aids])"
   ]
  },
  {
   "cell_type": "code",
   "execution_count": 26,
   "metadata": {},
   "outputs": [
    {
     "data": {
      "application/vnd.jupyter.widget-view+json": {
       "model_id": "e2e7f4c9b1704622b08e5a46f36e4688",
       "version_major": 2,
       "version_minor": 0
      },
      "text/plain": [
       "  0%|          | 0/1671803 [00:00<?, ?it/s]"
      ]
     },
     "metadata": {},
     "output_type": "display_data"
    }
   ],
   "source": [
    "data_list = []\n",
    "\n",
    "for session_id, sorted_aids in tqdm(sorted_ids_list):\n",
    "    sorted_aids_20_str = \" \".join(map(str, sorted_aids[:20]))\n",
    "    data_list.append([f\"{session_id}_clicks\", sorted_aids_20_str])\n",
    "    data_list.append([f\"{session_id}_carts\", sorted_aids_20_str])\n",
    "    data_list.append([f\"{session_id}_orders\", sorted_aids_20_str])\n",
    "\n",
    "submit_df = pd.DataFrame(data_list, columns=[\"session_type\", \"labels\"])"
   ]
  },
  {
   "cell_type": "code",
   "execution_count": 28,
   "metadata": {},
   "outputs": [],
   "source": [
    "submit_df.to_csv(\"../../output/sub_exp001.csv\", index=False)"
   ]
  },
  {
   "cell_type": "code",
   "execution_count": null,
   "metadata": {},
   "outputs": [],
   "source": []
  }
 ],
 "metadata": {
  "kernelspec": {
   "display_name": "Python 3.10.7 64-bit ('3.10.7')",
   "language": "python",
   "name": "python3"
  },
  "language_info": {
   "codemirror_mode": {
    "name": "ipython",
    "version": 3
   },
   "file_extension": ".py",
   "mimetype": "text/x-python",
   "name": "python",
   "nbconvert_exporter": "python",
   "pygments_lexer": "ipython3",
   "version": "3.10.7"
  },
  "orig_nbformat": 4,
  "vscode": {
   "interpreter": {
    "hash": "5cd0e41bd2d3684810b5778c270c401493c7887316d7d4f1f37e93c5484f1013"
   }
  }
 },
 "nbformat": 4,
 "nbformat_minor": 2
}
