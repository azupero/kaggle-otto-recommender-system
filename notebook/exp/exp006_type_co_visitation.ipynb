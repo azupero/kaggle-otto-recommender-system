{
 "cells": [
  {
   "attachments": {},
   "cell_type": "markdown",
   "metadata": {},
   "source": [
    "# exp006\n",
    "- [Item type vs multiple clicks vs latest items](https://www.kaggle.com/code/ingvarasgalinskas/item-type-vs-multiple-clicks-vs-latest-items)"
   ]
  },
  {
   "cell_type": "code",
   "execution_count": 3,
   "metadata": {},
   "outputs": [],
   "source": [
    "import numpy as np\n",
    "import pandas as pd\n",
    "from collections import Counter, defaultdict\n",
    "from itertools import chain\n",
    "\n",
    "from pathlib import Path\n",
    "from tqdm.auto import tqdm\n",
    "import multiprocessing\n",
    "import gc\n",
    "import glob\n",
    "\n",
    "import warnings\n",
    "warnings.filterwarnings('ignore')\n",
    "\n",
    "\n",
    "INPUT_DIR = Path(\"../../input\")"
   ]
  },
  {
   "cell_type": "code",
   "execution_count": 2,
   "metadata": {},
   "outputs": [],
   "source": [
    "INPUT_DIR = Path(\"../../input\")\n",
    "def get_input_data(input_dir: Path, phase: str):\n",
    "    dfs = []\n",
    "    for path in sorted(list(input_dir.glob(f\"{phase}_parquet/*.parquet\"))):\n",
    "        chunk = pd.read_parquet(path)\n",
    "        # chunk[\"session_int32\"] = chunk[\"session\"].astype(\"int32\")\n",
    "        # chunk[\"aid_int32\"] = chunk[\"aid\"].astype(\"int32\")\n",
    "        # chunk[\"ts\"] = (chunk[\"ts\"] / 1000).astype(\"int32\")\n",
    "        dfs.append(chunk)\n",
    "    \n",
    "    return pd.concat(dfs, axis=0).reset_index(drop=True) #.astype({\"ts\": \"datetime64[s]\"})\n",
    "\n",
    "train_df = get_input_data(INPUT_DIR, \"train\")\n",
    "test_df = get_input_data(INPUT_DIR, \"test\")"
   ]
  },
  {
   "attachments": {},
   "cell_type": "markdown",
   "metadata": {},
   "source": [
    "### co-visitation matrix"
   ]
  },
  {
   "cell_type": "code",
   "execution_count": 3,
   "metadata": {},
   "outputs": [],
   "source": [
    "next_aids = defaultdict(lambda: Counter())\n",
    "\n",
    "def update_covisitation_counter(df, chunk_size=30000):\n",
    "    sessions = df[\"session\"].unique()\n",
    "\n",
    "    for i in tqdm(range(0, len(sessions), chunk_size)):\n",
    "        # get current chunk of sessions\n",
    "        consecutive_aids = df.loc[sessions[i]: sessions[min(sessions.shape[0]-1, i+chunk_size-1)]].reset_index(drop=True)\n",
    "        # get the 30 most recent products per session\n",
    "        consecutive_aids = consecutive_aids.groupby(\"session\", as_index=False).nth(list(range(-30, 0))).reset_index(drop=True)\n",
    "        # Merge sessions onto themselves so we can find pairs of products that are actioned on together\n",
    "        consecutive_aids = consecutive_aids.merge(consecutive_aids, on=[\"session\"])\n",
    "        # Remove entries that are themselves\n",
    "        consecutive_aids = consecutive_aids[consecutive_aids[\"aid_x\"] != consecutive_aids[\"aid_y\"]]\n",
    "        # Calculate how many days between products\n",
    "        consecutive_aids[\"days_elapsed\"] = abs(consecutive_aids[\"ts_y\"] - consecutive_aids[\"ts_x\"])\n",
    "        # Only keep products that are within a day of each other\n",
    "        # consecutive_aids = consecutive_aids[(consecutive_aids[\"days_elapsed\"] > 0) & (consecutive_aids[\"days_elapsed\"] <= 1)]\n",
    "        consecutive_aids = consecutive_aids[consecutive_aids[\"days_elapsed\"] < 24 * 60 * 60 * 1000]\n",
    "\n",
    "\n",
    "        consecutive_aids = consecutive_aids.drop_duplicates(subset=[\"session\", \"aid_x\", \"aid_y\"]).reset_index(drop=True)\n",
    "        for aid_x, aid_y in zip(\n",
    "            consecutive_aids[\"aid_x\"].to_numpy(), \n",
    "            consecutive_aids[\"aid_y\"].to_numpy(),\n",
    "            # consecutive_aids[\"ts_x\"].to_numpy(),\n",
    "            # consecutive_aids[\"type_y\"].to_numpy()\n",
    "            ):\n",
    "            # w = 1 + 3 * (ts - 1659304800025)/(1662328791563 - 1659304800025)\n",
    "            # HERE WE CAN BOOST WEIGHT, i.e. IF TYP==\"ORDERS\": W *= 10.0\n",
    "            # THEN SAVE THIS MATRIX AS THE \"ORDERS\" MATRIX\n",
    "            # WE CAN MAKE 3 DIFFERENT CO-VISITATION MATRICES\n",
    "            next_aids[aid_x][aid_y] += 1\n",
    "\n",
    "        del consecutive_aids\n",
    "        gc.collect()"
   ]
  },
  {
   "cell_type": "code",
   "execution_count": 4,
   "metadata": {},
   "outputs": [
    {
     "name": "stderr",
     "output_type": "stream",
     "text": [
      "  3%|▎         | 14/430 [01:35<43:36,  6.29s/it] "
     ]
    }
   ],
   "source": [
    "%%time\n",
    "multiindex_df = train_df.copy()\n",
    "multiindex_df.index = pd.MultiIndex.from_frame(train_df[[\"session\"]])\n",
    "update_covisitation_counter(multiindex_df)\n",
    "\n",
    "del multiindex_df\n",
    "gc.collect()"
   ]
  },
  {
   "cell_type": "code",
   "execution_count": null,
   "metadata": {},
   "outputs": [
    {
     "data": {
      "application/vnd.jupyter.widget-view+json": {
       "model_id": "61bdc44dbc43472ba90bd8033f892482",
       "version_major": 2,
       "version_minor": 0
      },
      "text/plain": [
       "  0%|          | 0/56 [00:00<?, ?it/s]"
      ]
     },
     "metadata": {},
     "output_type": "display_data"
    },
    {
     "data": {
      "text/plain": [
       "19"
      ]
     },
     "execution_count": 6,
     "metadata": {},
     "output_type": "execute_result"
    }
   ],
   "source": [
    "%%time\n",
    "multiindex_df = test_df.copy()\n",
    "multiindex_df.index = pd.MultiIndex.from_frame(test_df[[\"session\"]])\n",
    "update_covisitation_counter(multiindex_df)\n",
    "\n",
    "del multiindex_df\n",
    "gc.collect()"
   ]
  },
  {
   "cell_type": "code",
   "execution_count": null,
   "metadata": {},
   "outputs": [
    {
     "data": {
      "application/vnd.jupyter.widget-view+json": {
       "model_id": "129110f0e4a44fd49af5e2e150b56cb2",
       "version_major": 2,
       "version_minor": 0
      },
      "text/plain": [
       "  0%|          | 0/1837169 [00:00<?, ?it/s]"
      ]
     },
     "metadata": {},
     "output_type": "display_data"
    }
   ],
   "source": [
    "aid_top_20 = []\n",
    "for aid, cnt in tqdm(next_aids.items()):\n",
    "    aid_top_20.append({\"aid1\": aid, \"aid2\": [aid2 for aid2, freq in cnt.most_common(20)]})\n",
    "\n",
    "aid_top_20_df = pd.DataFrame(aid_top_20).set_index(\"aid1\")\n",
    "aid_top_20 = aid_top_20_df[\"aid2\"].to_dict()\n",
    "len(aid_top_20)"
   ]
  },
  {
   "attachments": {},
   "cell_type": "markdown",
   "metadata": {},
   "source": [
    "### inference"
   ]
  },
  {
   "cell_type": "code",
   "execution_count": 29,
   "metadata": {},
   "outputs": [],
   "source": [
    "def suggest_aids(df):\n",
    "    # REMOVE DUPLICATE AIDS AND REVERSE ORDER OF LIST\n",
    "    aids = list(dict.fromkeys(df[\"aid\"].to_list()[::-1]))\n",
    "    \n",
    "    if len(aids) >= 20:\n",
    "        # We have enough events in the test session\n",
    "        return aids[:20]\n",
    "    \n",
    "    # Append it with AIDs from the co-visitation matrix.\n",
    "    aids2 = list(chain(*[aid_top_20[aid] for aid in aids if aid in aid_top_20]))\n",
    "    top_aids20 = [aid2 for aid2, cnt in Counter(aids2).most_common(20) if aid2 not in aids]\n",
    "    \n",
    "    return list(aids) + top_aids20[:20 - len(aids)]"
   ]
  },
  {
   "cell_type": "code",
   "execution_count": 30,
   "metadata": {},
   "outputs": [
    {
     "data": {
      "text/plain": [
       "session\n",
       "12899779    [59625, 438191, 731692, 1790770, 737445, 12535...\n",
       "12899780    [1142000, 736515, 973453, 582732, 1502122, 889...\n",
       "12899781    [918667, 199008, 194067, 57315, 141736, 146057...\n",
       "12899782    [1007613, 595994, 1033148, 834354, 479970, 169...\n",
       "12899783    [1817895, 607638, 1754419, 1216820, 1729553, 3...\n",
       "dtype: object"
      ]
     },
     "execution_count": 30,
     "metadata": {},
     "output_type": "execute_result"
    }
   ],
   "source": [
    "pred_df = test_df.sort_values([\"session\", \"ts\"]).groupby([\"session\"]).apply(\n",
    "    lambda x: suggest_aids(x)\n",
    ")\n",
    "pred_df.head()"
   ]
  },
  {
   "cell_type": "code",
   "execution_count": 51,
   "metadata": {},
   "outputs": [
    {
     "data": {
      "text/plain": [
       "1671803"
      ]
     },
     "execution_count": 51,
     "metadata": {},
     "output_type": "execute_result"
    }
   ],
   "source": [
    "# numpy配列\n",
    "pred = test_df.sort_values([\"session\", \"ts\"]).groupby([\"session\"])[\"aid\"].apply(list)\n",
    "\n",
    "rec_list = []\n",
    "for i in pred.to_numpy():\n",
    "    aids = list(dict.fromkeys(i[::-1]))\n",
    "    if len(aids) >= 20:\n",
    "        rec_list.append(aids)\n",
    "    else:\n",
    "        aids2 = list(chain(*[aid_top_20[aid] for aid in aids if aid in aid_top_20]))\n",
    "        top_aids20 = [aid2 for aid2, cnt in Counter(aids2).most_common(20) if aid2 not in aids]\n",
    "        rec = list(aids) + top_aids20[:20 - len(aids)]\n",
    "        rec_list.append(rec)\n",
    "\n",
    "\n",
    "len(rec_list)"
   ]
  },
  {
   "cell_type": "code",
   "execution_count": 49,
   "metadata": {},
   "outputs": [
    {
     "data": {
      "text/plain": [
       "1671803"
      ]
     },
     "execution_count": 49,
     "metadata": {},
     "output_type": "execute_result"
    }
   ],
   "source": [
    "# numpy配列かつapplyをなくす\n",
    "rec_list = []\n",
    "for i, group in test_df.sort_values([\"session\", \"ts\"]).groupby([\"session\"]):\n",
    "    aids = list(dict.fromkeys(group[\"aid\"].to_list()[::-1]))\n",
    "    if len(aids) >= 20:\n",
    "        rec_list.append(aids)\n",
    "    else:\n",
    "        aids2 = list(chain(*[aid_top_20[aid] for aid in aids if aid in aid_top_20]))\n",
    "        top_aids20 = [aid2 for aid2, cnt in Counter(aids2).most_common(20) if aid2 not in aids]\n",
    "        rec = list(aids) + top_aids20[:20 - len(aids)]\n",
    "        rec_list.append(rec)\n",
    "\n",
    "len(rec_list)"
   ]
  },
  {
   "cell_type": "code",
   "execution_count": 31,
   "metadata": {},
   "outputs": [
    {
     "data": {
      "application/vnd.jupyter.widget-view+json": {
       "model_id": "19caf0f5b9f1489a999f6fee30bd7101",
       "version_major": 2,
       "version_minor": 0
      },
      "text/plain": [
       "  0%|          | 0/1671803 [00:00<?, ?it/s]"
      ]
     },
     "metadata": {},
     "output_type": "display_data"
    },
    {
     "data": {
      "text/html": [
       "<div>\n",
       "<style scoped>\n",
       "    .dataframe tbody tr th:only-of-type {\n",
       "        vertical-align: middle;\n",
       "    }\n",
       "\n",
       "    .dataframe tbody tr th {\n",
       "        vertical-align: top;\n",
       "    }\n",
       "\n",
       "    .dataframe thead th {\n",
       "        text-align: right;\n",
       "    }\n",
       "</style>\n",
       "<table border=\"1\" class=\"dataframe\">\n",
       "  <thead>\n",
       "    <tr style=\"text-align: right;\">\n",
       "      <th></th>\n",
       "      <th>session_type</th>\n",
       "      <th>labels</th>\n",
       "    </tr>\n",
       "  </thead>\n",
       "  <tbody>\n",
       "    <tr>\n",
       "      <th>0</th>\n",
       "      <td>12899779_clicks</td>\n",
       "      <td>59625 438191 731692 1790770 737445 1253524 162...</td>\n",
       "    </tr>\n",
       "    <tr>\n",
       "      <th>1</th>\n",
       "      <td>12899779_carts</td>\n",
       "      <td>59625 438191 731692 1790770 737445 1253524 162...</td>\n",
       "    </tr>\n",
       "    <tr>\n",
       "      <th>2</th>\n",
       "      <td>12899779_orders</td>\n",
       "      <td>59625 438191 731692 1790770 737445 1253524 162...</td>\n",
       "    </tr>\n",
       "    <tr>\n",
       "      <th>3</th>\n",
       "      <td>12899780_clicks</td>\n",
       "      <td>1142000 736515 973453 582732 1502122 889686 17...</td>\n",
       "    </tr>\n",
       "    <tr>\n",
       "      <th>4</th>\n",
       "      <td>12899780_carts</td>\n",
       "      <td>1142000 736515 973453 582732 1502122 889686 17...</td>\n",
       "    </tr>\n",
       "    <tr>\n",
       "      <th>...</th>\n",
       "      <td>...</td>\n",
       "      <td>...</td>\n",
       "    </tr>\n",
       "    <tr>\n",
       "      <th>5015404</th>\n",
       "      <td>14571580_carts</td>\n",
       "      <td>202353 1314576 433425 1231403 871658 925638 35...</td>\n",
       "    </tr>\n",
       "    <tr>\n",
       "      <th>5015405</th>\n",
       "      <td>14571580_orders</td>\n",
       "      <td>202353 1314576 433425 1231403 871658 925638 35...</td>\n",
       "    </tr>\n",
       "    <tr>\n",
       "      <th>5015406</th>\n",
       "      <td>14571581_clicks</td>\n",
       "      <td>1100210 1684953 462056 1158237 1401429 622489 ...</td>\n",
       "    </tr>\n",
       "    <tr>\n",
       "      <th>5015407</th>\n",
       "      <td>14571581_carts</td>\n",
       "      <td>1100210 1684953 462056 1158237 1401429 622489 ...</td>\n",
       "    </tr>\n",
       "    <tr>\n",
       "      <th>5015408</th>\n",
       "      <td>14571581_orders</td>\n",
       "      <td>1100210 1684953 462056 1158237 1401429 622489 ...</td>\n",
       "    </tr>\n",
       "  </tbody>\n",
       "</table>\n",
       "<p>5015409 rows × 2 columns</p>\n",
       "</div>"
      ],
      "text/plain": [
       "            session_type                                             labels\n",
       "0        12899779_clicks  59625 438191 731692 1790770 737445 1253524 162...\n",
       "1         12899779_carts  59625 438191 731692 1790770 737445 1253524 162...\n",
       "2        12899779_orders  59625 438191 731692 1790770 737445 1253524 162...\n",
       "3        12899780_clicks  1142000 736515 973453 582732 1502122 889686 17...\n",
       "4         12899780_carts  1142000 736515 973453 582732 1502122 889686 17...\n",
       "...                  ...                                                ...\n",
       "5015404   14571580_carts  202353 1314576 433425 1231403 871658 925638 35...\n",
       "5015405  14571580_orders  202353 1314576 433425 1231403 871658 925638 35...\n",
       "5015406  14571581_clicks  1100210 1684953 462056 1158237 1401429 622489 ...\n",
       "5015407   14571581_carts  1100210 1684953 462056 1158237 1401429 622489 ...\n",
       "5015408  14571581_orders  1100210 1684953 462056 1158237 1401429 622489 ...\n",
       "\n",
       "[5015409 rows x 2 columns]"
      ]
     },
     "execution_count": 31,
     "metadata": {},
     "output_type": "execute_result"
    }
   ],
   "source": [
    "data_list = []\n",
    "\n",
    "for session_id, sorted_aids in tqdm(pred_df.reset_index().to_numpy()):\n",
    "    sorted_aids_20_str = \" \".join(map(str, sorted_aids))\n",
    "    data_list.append([f\"{session_id}_clicks\", sorted_aids_20_str])\n",
    "    data_list.append([f\"{session_id}_carts\", sorted_aids_20_str])\n",
    "    data_list.append([f\"{session_id}_orders\", sorted_aids_20_str])\n",
    "\n",
    "submit_df = pd.DataFrame(data_list, columns=[\"session_type\", \"labels\"])\n",
    "submit_df"
   ]
  },
  {
   "cell_type": "code",
   "execution_count": 32,
   "metadata": {},
   "outputs": [],
   "source": [
    "Path(\"../../output/exp005\").mkdir(exist_ok=True)\n",
    "submit_df.to_csv(\"../../output/exp005/sub_exp005.csv\", index=False)"
   ]
  }
 ],
 "metadata": {
  "kernelspec": {
   "display_name": "Python 3.8.8 ('.venv': poetry)",
   "language": "python",
   "name": "python3"
  },
  "language_info": {
   "codemirror_mode": {
    "name": "ipython",
    "version": 3
   },
   "file_extension": ".py",
   "mimetype": "text/x-python",
   "name": "python",
   "nbconvert_exporter": "python",
   "pygments_lexer": "ipython3",
   "version": "3.9.14"
  },
  "orig_nbformat": 4,
  "vscode": {
   "interpreter": {
    "hash": "4fd02204a2d48f9e11881ad62ba0ed1fb6f42005975222c313d1f69ba9097e70"
   }
  }
 },
 "nbformat": 4,
 "nbformat_minor": 2
}
