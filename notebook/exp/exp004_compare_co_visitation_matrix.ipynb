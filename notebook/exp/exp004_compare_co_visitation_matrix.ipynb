{
 "cells": [
  {
   "attachments": {},
   "cell_type": "markdown",
   "metadata": {},
   "source": [
    "# exp004\n",
    "- 共起行列の高速実装パターンを試す\n",
    "- [Fast Co-Visitation Matrix](https://www.kaggle.com/code/dpalbrecht/fast-co-visitation-matrix/notebook)\n",
    "- [Test Data Leak - LB Boost](https://www.kaggle.com/code/cdeotte/test-data-leak-lb-boost/notebook?scriptVersionId=110154433)"
   ]
  },
  {
   "cell_type": "code",
   "execution_count": 1,
   "metadata": {},
   "outputs": [],
   "source": [
    "import numpy as np\n",
    "import pandas as pd\n",
    "from collections import Counter, defaultdict\n",
    "\n",
    "from pathlib import Path\n",
    "from tqdm.auto import tqdm\n",
    "import multiprocessing\n",
    "import gc\n",
    "import glob\n",
    "\n",
    "import warnings\n",
    "warnings.filterwarnings('ignore')\n",
    "\n",
    "DEBUG = False\n",
    "SAMPLING = 1  # Reduce it to improve performance\n",
    "INPUT_DIR = Path(\"../../input\")"
   ]
  },
  {
   "cell_type": "code",
   "execution_count": 2,
   "metadata": {},
   "outputs": [],
   "source": [
    "INPUT_DIR = Path(\"../../input\")\n",
    "def get_input_data(input_dir: Path, phase: str):\n",
    "    dfs = []\n",
    "    for path in sorted(list(input_dir.glob(f\"{phase}_parquet/*.parquet\"))):\n",
    "        chunk = pd.read_parquet(path)\n",
    "        # chunk[\"session\"] = chunk[\"session\"].astype(\"int32\")\n",
    "        # chunk[\"ts\"] = (chunk[\"ts\"] / 1000).astype(\"int32\")\n",
    "        dfs.append(chunk)\n",
    "    \n",
    "    return pd.concat(dfs, axis=0).reset_index(drop=True) #.astype({\"ts\": \"datetime64[s]\"})\n",
    "\n",
    "# train_df = get_input_data(INPUT_DIR, \"train\")\n",
    "test_df = get_input_data(INPUT_DIR, \"test\")"
   ]
  },
  {
   "attachments": {},
   "cell_type": "markdown",
   "metadata": {},
   "source": [
    "### generate aid pairs - original"
   ]
  },
  {
   "cell_type": "code",
   "execution_count": 35,
   "metadata": {},
   "outputs": [],
   "source": [
    "def gen_pairs(df):\n",
    "    df = df.query('session % @SAMPLING == 0').groupby('session', as_index=False, sort=False).apply(lambda g: g.tail(30)).reset_index(drop=True)\n",
    "    df = pd.merge(df, df, on='session')\n",
    "    pairs = df.query('abs(ts_x - ts_y) < 24 * 60 * 60 * 1000 and aid_x != aid_y')[['session', 'aid_x', 'aid_y']].drop_duplicates()\n",
    "    \n",
    "    return pairs[['aid_x', 'aid_y']].to_numpy()\n",
    "\n",
    "\n",
    "def gen_aid_pairs():\n",
    "    all_pairs = defaultdict(lambda: Counter())\n",
    "    all_pair_chunks = []\n",
    "\n",
    "    with tqdm(glob.glob('../../input/test_parquet/*'), desc='Chunks') as prog:\n",
    "        for idx, chunk_file in enumerate(prog):\n",
    "            with multiprocessing.get_context(\"fork\").Pool(4) as p:\n",
    "                chunk = pd.read_parquet(chunk_file).drop(columns=['type'])\n",
    "                pair_chunks = p.map(gen_pairs, np.array_split(chunk, 120))            \n",
    "                pair_chunks = np.concatenate(pair_chunks, axis=0)\n",
    "                all_pair_chunks.append(pair_chunks)\n",
    "\n",
    "                if DEBUG and idx >= 3:\n",
    "                    break\n",
    "                del chunk, pair_chunks\n",
    "                gc.collect()\n",
    "\n",
    "    df = pd.DataFrame(data=np.concatenate(all_pair_chunks), columns=['aid1', 'aid2'])\n",
    "    top_aids = df.groupby('aid1').apply(lambda df: Counter(df.aid2).most_common(40)).to_dict()\n",
    "\n",
    "    return top_aids"
   ]
  },
  {
   "cell_type": "code",
   "execution_count": 36,
   "metadata": {},
   "outputs": [
    {
     "data": {
      "application/vnd.jupyter.widget-view+json": {
       "model_id": "852ddb494b42448390df18d1763d4e21",
       "version_major": 2,
       "version_minor": 0
      },
      "text/plain": [
       "Chunks:   0%|          | 0/17 [00:00<?, ?it/s]"
      ]
     },
     "metadata": {},
     "output_type": "display_data"
    },
    {
     "data": {
      "text/plain": [
       "692061"
      ]
     },
     "execution_count": 36,
     "metadata": {},
     "output_type": "execute_result"
    }
   ],
   "source": [
    "top_40 = gen_aid_pairs()\n",
    "len(top_40)"
   ]
  },
  {
   "cell_type": "code",
   "execution_count": 9,
   "metadata": {},
   "outputs": [],
   "source": [
    "def gen_pairs(df):\n",
    "    df = df.query('session % @SAMPLING == 0').groupby('session', as_index=False, sort=False).apply(lambda g: g.tail(30)).reset_index(drop=True)\n",
    "    df = pd.merge(df, df, on='session')\n",
    "    pairs = df.query('abs(ts_x - ts_y) < 24 * 60 * 60 * 1000 and aid_x != aid_y')[['session', 'aid_x', 'aid_y']].drop_duplicates()\n",
    "    \n",
    "    return pairs[['aid_x', 'aid_y']].to_numpy()\n",
    "\n",
    "\n",
    "def gen_aid_pairs():\n",
    "    all_pairs = defaultdict(lambda: Counter())\n",
    "    all_pair_chunks = []\n",
    "\n",
    "    with tqdm(glob.glob('../../input/*_parquet/*'), desc='Chunks') as prog:\n",
    "        with multiprocessing.get_context(\"fork\").Pool(4) as p:\n",
    "            for idx, chunk_file in enumerate(prog):\n",
    "                chunk = pd.read_parquet(chunk_file).drop(columns=['type'])\n",
    "                pair_chunks = p.map(gen_pairs, np.array_split(chunk, 120))            \n",
    "                pair_chunks = np.concatenate(pair_chunks, axis=0)\n",
    "                all_pair_chunks.append(pair_chunks)\n",
    "\n",
    "                if DEBUG and idx >= 3:\n",
    "                    break\n",
    "                del chunk, pair_chunks\n",
    "                gc.collect()\n",
    "\n",
    "    df = pd.DataFrame(data=np.concatenate(all_pair_chunks), columns=['aid1', 'aid2'])\n",
    "    top_aids = df.groupby('aid1').apply(lambda df: Counter(df.aid2).most_common(40)).to_dict()\n",
    "\n",
    "    return top_aids"
   ]
  },
  {
   "cell_type": "code",
   "execution_count": 10,
   "metadata": {},
   "outputs": [
    {
     "data": {
      "application/vnd.jupyter.widget-view+json": {
       "model_id": "61ec0772cf554fc7aecb0ff88f282a13",
       "version_major": 2,
       "version_minor": 0
      },
      "text/plain": [
       "Chunks:   0%|          | 0/146 [00:00<?, ?it/s]"
      ]
     },
     "metadata": {},
     "output_type": "display_data"
    },
    {
     "data": {
      "text/plain": [
       "332929"
      ]
     },
     "execution_count": 10,
     "metadata": {},
     "output_type": "execute_result"
    }
   ],
   "source": [
    "top_40 = gen_aid_pairs()\n",
    "len(top_40)"
   ]
  },
  {
   "attachments": {},
   "cell_type": "markdown",
   "metadata": {},
   "source": [
    "### generate aid pairs - Chris"
   ]
  },
  {
   "cell_type": "code",
   "execution_count": 69,
   "metadata": {},
   "outputs": [],
   "source": [
    "import sys\n",
    "\n",
    "def gen_pairs(df):\n",
    "    df = df.query('session % @SAMPLING == 0').groupby('session', as_index=False, sort=False).apply(lambda g: g.tail(30)).reset_index(drop=True)\n",
    "    if df[\"session\"].isin([12975575]).sum() != 0:\n",
    "        print(\"include: 12975575\")\n",
    "    df = pd.merge(df, df, on='session')\n",
    "    pairs = df.query('abs(ts_x - ts_y) < 24 * 60 * 60 * 1000 and aid_x != aid_y')[['session', 'aid_x', 'aid_y', 'ts_x', 'type_y']].drop_duplicates(['session', 'aid_x', 'aid_y'])\n",
    "    return pairs[['aid_x', 'aid_y', 'ts_x', 'type_y', 'session']].to_numpy()\n",
    "\n",
    "\n",
    "def gen_aid_pairs():\n",
    "    sessions = []\n",
    "    all_pairs = defaultdict(lambda: Counter())\n",
    "    with tqdm(glob.glob('../../input/test_parquet/*'), desc='Chunks') as prog:\n",
    "        with multiprocessing.get_context(\"fork\").Pool(4) as p:\n",
    "            for idx, chunk_file in enumerate(prog):\n",
    "                chunk = pd.read_parquet(chunk_file)#.drop(columns=['type'])\n",
    "                pair_chunks = p.map(gen_pairs, np.array_split(chunk.head(100000000 if not DEBUG else 10000), 120))\n",
    "                for pairs in pair_chunks:\n",
    "                    for aid1, aid2, ts, typ, s in pairs:\n",
    "                        w = 1 + 3 * (ts - 1659304800025)/(1662328791563-1659304800025)\n",
    "                        # HERE WE CAN BOOST WEIGHT, i.e. IF TYP==\"ORDERS\": W *= 10.0\n",
    "                        # THEN SAVE THIS MATRIX AS THE \"ORDERS\" MATRIX\n",
    "                        # WE CAN MAKE 3 DIFFERENT CO-VISITATION MATRICES\n",
    "                        all_pairs[aid1][aid2] +=w\n",
    "                        sessions.append(s)\n",
    "                prog.set_description(f'Mem: {sys.getsizeof(object) // (2 ** 20)}MB')\n",
    "\n",
    "                if DEBUG and idx >= 2:\n",
    "                    break\n",
    "                del chunk, pair_chunks\n",
    "                gc.collect()\n",
    "                \n",
    "    return all_pairs, sessions"
   ]
  },
  {
   "cell_type": "code",
   "execution_count": 70,
   "metadata": {},
   "outputs": [
    {
     "data": {
      "application/vnd.jupyter.widget-view+json": {
       "model_id": "96d96d49b9ca41578acaea73be05dcfb",
       "version_major": 2,
       "version_minor": 0
      },
      "text/plain": [
       "Chunks:   0%|          | 0/17 [00:00<?, ?it/s]"
      ]
     },
     "metadata": {},
     "output_type": "display_data"
    },
    {
     "name": "stdout",
     "output_type": "stream",
     "text": [
      "include: 12975575\n",
      "include: 12975575\n"
     ]
    },
    {
     "data": {
      "text/plain": [
       "692061"
      ]
     },
     "execution_count": 70,
     "metadata": {},
     "output_type": "execute_result"
    }
   ],
   "source": [
    "top_40, top_40_sessions = gen_aid_pairs()\n",
    "len(top_40)"
   ]
  },
  {
   "cell_type": "code",
   "execution_count": 54,
   "metadata": {},
   "outputs": [
    {
     "data": {
      "text/plain": [
       "692061"
      ]
     },
     "execution_count": 54,
     "metadata": {},
     "output_type": "execute_result"
    }
   ],
   "source": [
    "len(top_40)"
   ]
  },
  {
   "cell_type": "code",
   "execution_count": 42,
   "metadata": {},
   "outputs": [
    {
     "data": {
      "text/plain": [
       "799564"
      ]
     },
     "execution_count": 42,
     "metadata": {},
     "output_type": "execute_result"
    }
   ],
   "source": [
    "len(np.unique(top_40_sessions))"
   ]
  },
  {
   "attachments": {},
   "cell_type": "markdown",
   "metadata": {},
   "source": [
    "### fast co-visitation matrix"
   ]
  },
  {
   "cell_type": "code",
   "execution_count": 90,
   "metadata": {},
   "outputs": [
    {
     "data": {
      "application/vnd.jupyter.widget-view+json": {
       "model_id": "6ccb42ff73124fbd96bbad9a17338225",
       "version_major": 2,
       "version_minor": 0
      },
      "text/plain": [
       "  0%|          | 0/56 [00:00<?, ?it/s]"
      ]
     },
     "metadata": {},
     "output_type": "display_data"
    }
   ],
   "source": [
    "next_aids = defaultdict(lambda: Counter())\n",
    "\n",
    "def update_covisitation_counter(df, chunk_size=30000):\n",
    "    session_cnt = []\n",
    "    sessions = df[\"session\"].unique()\n",
    "    # sessions = df.session.unique()\n",
    "\n",
    "    for i in tqdm(range(0, len(sessions), chunk_size)):\n",
    "        # get current chunk of sessions\n",
    "        # print(f\"Now session : {i} to {min(sessions.shape[0]-1, i+chunk_size-1)}\")\n",
    "        consecutive_aids = df.loc[sessions[i]: sessions[min(sessions.shape[0]-1, i+chunk_size-1)]].reset_index(drop=True)\n",
    "        # get the 30 most recent products per session\n",
    "        consecutive_aids = consecutive_aids.groupby(\"session\", as_index=False).nth(list(range(-30, 0))).reset_index(drop=True)\n",
    "        # Merge sessions onto themselves so we can find pairs of products that are actioned on together\n",
    "        consecutive_aids = consecutive_aids.merge(consecutive_aids, on=[\"session\"])\n",
    "        # Remove entries that are themselves\n",
    "        consecutive_aids = consecutive_aids[consecutive_aids[\"aid_x\"] != consecutive_aids[\"aid_y\"]]\n",
    "        # Calculate how many days between products\n",
    "        consecutive_aids[\"days_elapsed\"] = abs(consecutive_aids[\"ts_y\"] - consecutive_aids[\"ts_x\"])\n",
    "        # Only keep products that are within a day of each other\n",
    "        # consecutive_aids = consecutive_aids[(consecutive_aids[\"days_elapsed\"] > 0) & (consecutive_aids[\"days_elapsed\"] <= 1)]\n",
    "        consecutive_aids = consecutive_aids[consecutive_aids[\"days_elapsed\"] < 24 * 60 * 60 * 1000]\n",
    "\n",
    "\n",
    "        consecutive_aids = consecutive_aids.drop_duplicates(subset=[\"session\", \"aid_x\", \"aid_y\"]).reset_index(drop=True)\n",
    "        for aid_x, aid_y, s in zip(consecutive_aids[\"aid_x\"].to_numpy(), consecutive_aids[\"aid_y\"].to_numpy(), consecutive_aids[\"session\"].to_numpy()):\n",
    "            next_aids[aid_x][aid_y] += 1\n",
    "            session_cnt.append(s)\n",
    "\n",
    "    return session_cnt\n",
    "\n",
    "\n",
    "# multiindex_df = train_df.copy()\n",
    "# multiindex_df.index = pd.MultiIndex.from_frame(train_df[[\"session\"]])\n",
    "# update_covisitation_counter(multiindex_df)\n",
    "\n",
    "multiindex_df = test_df.copy()\n",
    "multiindex_df.index = pd.MultiIndex.from_frame(test_df[[\"session\"]])\n",
    "sessions = update_covisitation_counter(multiindex_df)\n",
    "\n",
    "del multiindex_df"
   ]
  },
  {
   "cell_type": "code",
   "execution_count": 91,
   "metadata": {},
   "outputs": [
    {
     "data": {
      "text/plain": [
       "691800"
      ]
     },
     "execution_count": 91,
     "metadata": {},
     "output_type": "execute_result"
    }
   ],
   "source": [
    "len(next_aids)"
   ]
  },
  {
   "cell_type": "code",
   "execution_count": 50,
   "metadata": {},
   "outputs": [
    {
     "data": {
      "text/plain": [
       "799651"
      ]
     },
     "execution_count": 50,
     "metadata": {},
     "output_type": "execute_result"
    }
   ],
   "source": [
    "len(np.unique(sessions))"
   ]
  },
  {
   "cell_type": "code",
   "execution_count": 75,
   "metadata": {},
   "outputs": [
    {
     "data": {
      "text/plain": [
       "292"
      ]
     },
     "execution_count": 75,
     "metadata": {},
     "output_type": "execute_result"
    }
   ],
   "source": [
    "len(set(top_40.keys()) - set(next_aids.keys()))"
   ]
  },
  {
   "cell_type": "code",
   "execution_count": 22,
   "metadata": {},
   "outputs": [
    {
     "data": {
      "text/plain": [
       "31"
      ]
     },
     "execution_count": 22,
     "metadata": {},
     "output_type": "execute_result"
    }
   ],
   "source": [
    "len(set(next_aids.keys()) - set(top_40.keys()))"
   ]
  },
  {
   "cell_type": "code",
   "execution_count": 97,
   "metadata": {},
   "outputs": [
    {
     "data": {
      "text/html": [
       "<div>\n",
       "<style scoped>\n",
       "    .dataframe tbody tr th:only-of-type {\n",
       "        vertical-align: middle;\n",
       "    }\n",
       "\n",
       "    .dataframe tbody tr th {\n",
       "        vertical-align: top;\n",
       "    }\n",
       "\n",
       "    .dataframe thead th {\n",
       "        text-align: right;\n",
       "    }\n",
       "</style>\n",
       "<table border=\"1\" class=\"dataframe\">\n",
       "  <thead>\n",
       "    <tr style=\"text-align: right;\">\n",
       "      <th></th>\n",
       "      <th>session</th>\n",
       "      <th>aid_x</th>\n",
       "      <th>ts_x</th>\n",
       "      <th>type_x</th>\n",
       "      <th>aid_y</th>\n",
       "      <th>ts_y</th>\n",
       "      <th>type_y</th>\n",
       "      <th>days_elapsed</th>\n",
       "    </tr>\n",
       "  </thead>\n",
       "  <tbody>\n",
       "    <tr>\n",
       "      <th>1</th>\n",
       "      <td>14536702</td>\n",
       "      <td>1716469</td>\n",
       "      <td>1662326129802</td>\n",
       "      <td>clicks</td>\n",
       "      <td>835617</td>\n",
       "      <td>1662326152204</td>\n",
       "      <td>clicks</td>\n",
       "      <td>22402</td>\n",
       "    </tr>\n",
       "    <tr>\n",
       "      <th>2</th>\n",
       "      <td>14536702</td>\n",
       "      <td>1716469</td>\n",
       "      <td>1662326129802</td>\n",
       "      <td>clicks</td>\n",
       "      <td>365958</td>\n",
       "      <td>1662326166408</td>\n",
       "      <td>clicks</td>\n",
       "      <td>36606</td>\n",
       "    </tr>\n",
       "    <tr>\n",
       "      <th>3</th>\n",
       "      <td>14536702</td>\n",
       "      <td>1716469</td>\n",
       "      <td>1662326129802</td>\n",
       "      <td>clicks</td>\n",
       "      <td>835617</td>\n",
       "      <td>1662326178866</td>\n",
       "      <td>clicks</td>\n",
       "      <td>49064</td>\n",
       "    </tr>\n",
       "    <tr>\n",
       "      <th>4</th>\n",
       "      <td>14536702</td>\n",
       "      <td>1716469</td>\n",
       "      <td>1662326129802</td>\n",
       "      <td>clicks</td>\n",
       "      <td>857579</td>\n",
       "      <td>1662326196638</td>\n",
       "      <td>clicks</td>\n",
       "      <td>66836</td>\n",
       "    </tr>\n",
       "    <tr>\n",
       "      <th>5</th>\n",
       "      <td>14536702</td>\n",
       "      <td>1716469</td>\n",
       "      <td>1662326129802</td>\n",
       "      <td>clicks</td>\n",
       "      <td>835617</td>\n",
       "      <td>1662326213112</td>\n",
       "      <td>clicks</td>\n",
       "      <td>83310</td>\n",
       "    </tr>\n",
       "    <tr>\n",
       "      <th>...</th>\n",
       "      <td>...</td>\n",
       "      <td>...</td>\n",
       "      <td>...</td>\n",
       "      <td>...</td>\n",
       "      <td>...</td>\n",
       "      <td>...</td>\n",
       "      <td>...</td>\n",
       "      <td>...</td>\n",
       "    </tr>\n",
       "    <tr>\n",
       "      <th>894</th>\n",
       "      <td>14536702</td>\n",
       "      <td>1716469</td>\n",
       "      <td>1662327384958</td>\n",
       "      <td>clicks</td>\n",
       "      <td>1273367</td>\n",
       "      <td>1662327019988</td>\n",
       "      <td>clicks</td>\n",
       "      <td>364970</td>\n",
       "    </tr>\n",
       "    <tr>\n",
       "      <th>895</th>\n",
       "      <td>14536702</td>\n",
       "      <td>1716469</td>\n",
       "      <td>1662327384958</td>\n",
       "      <td>clicks</td>\n",
       "      <td>1273367</td>\n",
       "      <td>1662327121784</td>\n",
       "      <td>clicks</td>\n",
       "      <td>263174</td>\n",
       "    </tr>\n",
       "    <tr>\n",
       "      <th>896</th>\n",
       "      <td>14536702</td>\n",
       "      <td>1716469</td>\n",
       "      <td>1662327384958</td>\n",
       "      <td>clicks</td>\n",
       "      <td>1273367</td>\n",
       "      <td>1662327166195</td>\n",
       "      <td>clicks</td>\n",
       "      <td>218763</td>\n",
       "    </tr>\n",
       "    <tr>\n",
       "      <th>897</th>\n",
       "      <td>14536702</td>\n",
       "      <td>1716469</td>\n",
       "      <td>1662327384958</td>\n",
       "      <td>clicks</td>\n",
       "      <td>1394329</td>\n",
       "      <td>1662327188640</td>\n",
       "      <td>clicks</td>\n",
       "      <td>196318</td>\n",
       "    </tr>\n",
       "    <tr>\n",
       "      <th>898</th>\n",
       "      <td>14536702</td>\n",
       "      <td>1716469</td>\n",
       "      <td>1662327384958</td>\n",
       "      <td>clicks</td>\n",
       "      <td>870366</td>\n",
       "      <td>1662327216351</td>\n",
       "      <td>clicks</td>\n",
       "      <td>168607</td>\n",
       "    </tr>\n",
       "  </tbody>\n",
       "</table>\n",
       "<p>792 rows × 8 columns</p>\n",
       "</div>"
      ],
      "text/plain": [
       "      session    aid_x           ts_x  type_x    aid_y           ts_y  type_y  \\\n",
       "1    14536702  1716469  1662326129802  clicks   835617  1662326152204  clicks   \n",
       "2    14536702  1716469  1662326129802  clicks   365958  1662326166408  clicks   \n",
       "3    14536702  1716469  1662326129802  clicks   835617  1662326178866  clicks   \n",
       "4    14536702  1716469  1662326129802  clicks   857579  1662326196638  clicks   \n",
       "5    14536702  1716469  1662326129802  clicks   835617  1662326213112  clicks   \n",
       "..        ...      ...            ...     ...      ...            ...     ...   \n",
       "894  14536702  1716469  1662327384958  clicks  1273367  1662327019988  clicks   \n",
       "895  14536702  1716469  1662327384958  clicks  1273367  1662327121784  clicks   \n",
       "896  14536702  1716469  1662327384958  clicks  1273367  1662327166195  clicks   \n",
       "897  14536702  1716469  1662327384958  clicks  1394329  1662327188640  clicks   \n",
       "898  14536702  1716469  1662327384958  clicks   870366  1662327216351  clicks   \n",
       "\n",
       "     days_elapsed  \n",
       "1           22402  \n",
       "2           36606  \n",
       "3           49064  \n",
       "4           66836  \n",
       "5           83310  \n",
       "..            ...  \n",
       "894        364970  \n",
       "895        263174  \n",
       "896        218763  \n",
       "897        196318  \n",
       "898        168607  \n",
       "\n",
       "[792 rows x 8 columns]"
      ]
     },
     "execution_count": 97,
     "metadata": {},
     "output_type": "execute_result"
    }
   ],
   "source": [
    "multiindex_df = test_df[test_df[\"session\"] == 14536702].copy()\n",
    "multiindex_df.index = pd.MultiIndex.from_frame(multiindex_df[[\"session\"]])\n",
    "\n",
    "consecutive_aids = multiindex_df.reset_index(drop=True).groupby(\"session\", as_index=False).nth(list(range(-30, 0))).reset_index(drop=True)\n",
    "consecutive_aids = consecutive_aids.merge(consecutive_aids, on=[\"session\"])\n",
    "# Remove entries that are themselves\n",
    "consecutive_aids = consecutive_aids[consecutive_aids[\"aid_x\"] != consecutive_aids[\"aid_y\"]]\n",
    "# Calculate how many days between products\n",
    "consecutive_aids[\"days_elapsed\"] = abs(consecutive_aids[\"ts_y\"] - consecutive_aids[\"ts_x\"])\n",
    "# Only keep products that are within a day of each other\n",
    "# consecutive_aids = consecutive_aids[(consecutive_aids[\"days_elapsed\"] > 0) & (consecutive_aids[\"days_elapsed\"] <= 1)]\n",
    "consecutive_aids = consecutive_aids[consecutive_aids[\"days_elapsed\"] < 24 * 60 * 60 * 1000]\n",
    "consecutive_aids"
   ]
  },
  {
   "attachments": {},
   "cell_type": "markdown",
   "metadata": {},
   "source": [
    "- ラスト30に含まれないaidがある？"
   ]
  },
  {
   "cell_type": "code",
   "execution_count": 98,
   "metadata": {},
   "outputs": [
    {
     "data": {
      "text/plain": [
       "array([1716469,  835617,  365958,  857579,  819992,  870366, 1394329,\n",
       "        229849, 1541658,  721434,  683869,  838400, 1273367])"
      ]
     },
     "execution_count": 98,
     "metadata": {},
     "output_type": "execute_result"
    }
   ],
   "source": [
    "consecutive_aids[\"aid_x\"].unique()"
   ]
  },
  {
   "cell_type": "code",
   "execution_count": 76,
   "metadata": {},
   "outputs": [
    {
     "data": {
      "text/html": [
       "<div>\n",
       "<style scoped>\n",
       "    .dataframe tbody tr th:only-of-type {\n",
       "        vertical-align: middle;\n",
       "    }\n",
       "\n",
       "    .dataframe tbody tr th {\n",
       "        vertical-align: top;\n",
       "    }\n",
       "\n",
       "    .dataframe thead th {\n",
       "        text-align: right;\n",
       "    }\n",
       "</style>\n",
       "<table border=\"1\" class=\"dataframe\">\n",
       "  <thead>\n",
       "    <tr style=\"text-align: right;\">\n",
       "      <th></th>\n",
       "      <th>session</th>\n",
       "      <th>aid</th>\n",
       "      <th>ts</th>\n",
       "      <th>type</th>\n",
       "      <th>ts_</th>\n",
       "    </tr>\n",
       "  </thead>\n",
       "  <tbody>\n",
       "    <tr>\n",
       "      <th>6814041</th>\n",
       "      <td>14536702</td>\n",
       "      <td>10357</td>\n",
       "      <td>1662324443085</td>\n",
       "      <td>clicks</td>\n",
       "      <td>2022-09-04 20:47:23.085</td>\n",
       "    </tr>\n",
       "  </tbody>\n",
       "</table>\n",
       "</div>"
      ],
      "text/plain": [
       "          session    aid             ts    type                     ts_\n",
       "6814041  14536702  10357  1662324443085  clicks 2022-09-04 20:47:23.085"
      ]
     },
     "execution_count": 76,
     "metadata": {},
     "output_type": "execute_result"
    }
   ],
   "source": [
    "df = test_df[test_df[\"aid\"] == 10357].copy()\n",
    "df[\"ts_\"] = df[\"ts\"].astype(\"datetime64[ms]\")\n",
    "df"
   ]
  },
  {
   "cell_type": "code",
   "execution_count": 89,
   "metadata": {},
   "outputs": [
    {
     "data": {
      "text/html": [
       "<div>\n",
       "<style scoped>\n",
       "    .dataframe tbody tr th:only-of-type {\n",
       "        vertical-align: middle;\n",
       "    }\n",
       "\n",
       "    .dataframe tbody tr th {\n",
       "        vertical-align: top;\n",
       "    }\n",
       "\n",
       "    .dataframe thead th {\n",
       "        text-align: right;\n",
       "    }\n",
       "</style>\n",
       "<table border=\"1\" class=\"dataframe\">\n",
       "  <thead>\n",
       "    <tr style=\"text-align: right;\">\n",
       "      <th></th>\n",
       "      <th>session</th>\n",
       "      <th>aid_x</th>\n",
       "      <th>aid_y</th>\n",
       "      <th>ts_x</th>\n",
       "      <th>type_y</th>\n",
       "    </tr>\n",
       "  </thead>\n",
       "  <tbody>\n",
       "    <tr>\n",
       "      <th>2688</th>\n",
       "      <td>14536702</td>\n",
       "      <td>10357</td>\n",
       "      <td>1196569</td>\n",
       "      <td>1662324443085</td>\n",
       "      <td>clicks</td>\n",
       "    </tr>\n",
       "    <tr>\n",
       "      <th>2689</th>\n",
       "      <td>14536702</td>\n",
       "      <td>10357</td>\n",
       "      <td>1716469</td>\n",
       "      <td>1662324443085</td>\n",
       "      <td>clicks</td>\n",
       "    </tr>\n",
       "    <tr>\n",
       "      <th>2690</th>\n",
       "      <td>14536702</td>\n",
       "      <td>10357</td>\n",
       "      <td>1019678</td>\n",
       "      <td>1662324443085</td>\n",
       "      <td>clicks</td>\n",
       "    </tr>\n",
       "    <tr>\n",
       "      <th>2692</th>\n",
       "      <td>14536702</td>\n",
       "      <td>10357</td>\n",
       "      <td>229849</td>\n",
       "      <td>1662324443085</td>\n",
       "      <td>clicks</td>\n",
       "    </tr>\n",
       "    <tr>\n",
       "      <th>2693</th>\n",
       "      <td>14536702</td>\n",
       "      <td>10357</td>\n",
       "      <td>482569</td>\n",
       "      <td>1662324443085</td>\n",
       "      <td>clicks</td>\n",
       "    </tr>\n",
       "    <tr>\n",
       "      <th>2694</th>\n",
       "      <td>14536702</td>\n",
       "      <td>10357</td>\n",
       "      <td>532827</td>\n",
       "      <td>1662324443085</td>\n",
       "      <td>clicks</td>\n",
       "    </tr>\n",
       "    <tr>\n",
       "      <th>2695</th>\n",
       "      <td>14536702</td>\n",
       "      <td>10357</td>\n",
       "      <td>940014</td>\n",
       "      <td>1662324443085</td>\n",
       "      <td>clicks</td>\n",
       "    </tr>\n",
       "    <tr>\n",
       "      <th>2696</th>\n",
       "      <td>14536702</td>\n",
       "      <td>10357</td>\n",
       "      <td>770650</td>\n",
       "      <td>1662324443085</td>\n",
       "      <td>clicks</td>\n",
       "    </tr>\n",
       "    <tr>\n",
       "      <th>2698</th>\n",
       "      <td>14536702</td>\n",
       "      <td>10357</td>\n",
       "      <td>214671</td>\n",
       "      <td>1662324443085</td>\n",
       "      <td>clicks</td>\n",
       "    </tr>\n",
       "    <tr>\n",
       "      <th>2699</th>\n",
       "      <td>14536702</td>\n",
       "      <td>10357</td>\n",
       "      <td>1628069</td>\n",
       "      <td>1662324443085</td>\n",
       "      <td>clicks</td>\n",
       "    </tr>\n",
       "    <tr>\n",
       "      <th>2705</th>\n",
       "      <td>14536702</td>\n",
       "      <td>10357</td>\n",
       "      <td>463427</td>\n",
       "      <td>1662324443085</td>\n",
       "      <td>clicks</td>\n",
       "    </tr>\n",
       "    <tr>\n",
       "      <th>2706</th>\n",
       "      <td>14536702</td>\n",
       "      <td>10357</td>\n",
       "      <td>335025</td>\n",
       "      <td>1662324443085</td>\n",
       "      <td>clicks</td>\n",
       "    </tr>\n",
       "    <tr>\n",
       "      <th>2707</th>\n",
       "      <td>14536702</td>\n",
       "      <td>10357</td>\n",
       "      <td>360527</td>\n",
       "      <td>1662324443085</td>\n",
       "      <td>clicks</td>\n",
       "    </tr>\n",
       "    <tr>\n",
       "      <th>2709</th>\n",
       "      <td>14536702</td>\n",
       "      <td>10357</td>\n",
       "      <td>1438000</td>\n",
       "      <td>1662324443085</td>\n",
       "      <td>clicks</td>\n",
       "    </tr>\n",
       "    <tr>\n",
       "      <th>2710</th>\n",
       "      <td>14536702</td>\n",
       "      <td>10357</td>\n",
       "      <td>838400</td>\n",
       "      <td>1662324443085</td>\n",
       "      <td>clicks</td>\n",
       "    </tr>\n",
       "    <tr>\n",
       "      <th>2714</th>\n",
       "      <td>14536702</td>\n",
       "      <td>10357</td>\n",
       "      <td>870366</td>\n",
       "      <td>1662324443085</td>\n",
       "      <td>clicks</td>\n",
       "    </tr>\n",
       "    <tr>\n",
       "      <th>2715</th>\n",
       "      <td>14536702</td>\n",
       "      <td>10357</td>\n",
       "      <td>1640538</td>\n",
       "      <td>1662324443085</td>\n",
       "      <td>clicks</td>\n",
       "    </tr>\n",
       "    <tr>\n",
       "      <th>2717</th>\n",
       "      <td>14536702</td>\n",
       "      <td>10357</td>\n",
       "      <td>305332</td>\n",
       "      <td>1662324443085</td>\n",
       "      <td>clicks</td>\n",
       "    </tr>\n",
       "    <tr>\n",
       "      <th>2718</th>\n",
       "      <td>14536702</td>\n",
       "      <td>10357</td>\n",
       "      <td>1124974</td>\n",
       "      <td>1662324443085</td>\n",
       "      <td>clicks</td>\n",
       "    </tr>\n",
       "    <tr>\n",
       "      <th>2721</th>\n",
       "      <td>14536702</td>\n",
       "      <td>10357</td>\n",
       "      <td>1110456</td>\n",
       "      <td>1662324443085</td>\n",
       "      <td>clicks</td>\n",
       "    </tr>\n",
       "    <tr>\n",
       "      <th>2726</th>\n",
       "      <td>14536702</td>\n",
       "      <td>10357</td>\n",
       "      <td>1394329</td>\n",
       "      <td>1662324443085</td>\n",
       "      <td>clicks</td>\n",
       "    </tr>\n",
       "    <tr>\n",
       "      <th>2728</th>\n",
       "      <td>14536702</td>\n",
       "      <td>10357</td>\n",
       "      <td>819992</td>\n",
       "      <td>1662324443085</td>\n",
       "      <td>clicks</td>\n",
       "    </tr>\n",
       "    <tr>\n",
       "      <th>2729</th>\n",
       "      <td>14536702</td>\n",
       "      <td>10357</td>\n",
       "      <td>1273367</td>\n",
       "      <td>1662324443085</td>\n",
       "      <td>clicks</td>\n",
       "    </tr>\n",
       "    <tr>\n",
       "      <th>2733</th>\n",
       "      <td>14536702</td>\n",
       "      <td>10357</td>\n",
       "      <td>592041</td>\n",
       "      <td>1662324443085</td>\n",
       "      <td>clicks</td>\n",
       "    </tr>\n",
       "    <tr>\n",
       "      <th>2735</th>\n",
       "      <td>14536702</td>\n",
       "      <td>10357</td>\n",
       "      <td>365958</td>\n",
       "      <td>1662324443085</td>\n",
       "      <td>clicks</td>\n",
       "    </tr>\n",
       "    <tr>\n",
       "      <th>2739</th>\n",
       "      <td>14536702</td>\n",
       "      <td>10357</td>\n",
       "      <td>1541658</td>\n",
       "      <td>1662324443085</td>\n",
       "      <td>clicks</td>\n",
       "    </tr>\n",
       "    <tr>\n",
       "      <th>2741</th>\n",
       "      <td>14536702</td>\n",
       "      <td>10357</td>\n",
       "      <td>835617</td>\n",
       "      <td>1662324443085</td>\n",
       "      <td>clicks</td>\n",
       "    </tr>\n",
       "    <tr>\n",
       "      <th>2746</th>\n",
       "      <td>14536702</td>\n",
       "      <td>10357</td>\n",
       "      <td>857579</td>\n",
       "      <td>1662324443085</td>\n",
       "      <td>clicks</td>\n",
       "    </tr>\n",
       "    <tr>\n",
       "      <th>2758</th>\n",
       "      <td>14536702</td>\n",
       "      <td>10357</td>\n",
       "      <td>721434</td>\n",
       "      <td>1662324443085</td>\n",
       "      <td>clicks</td>\n",
       "    </tr>\n",
       "    <tr>\n",
       "      <th>2759</th>\n",
       "      <td>14536702</td>\n",
       "      <td>10357</td>\n",
       "      <td>683869</td>\n",
       "      <td>1662324443085</td>\n",
       "      <td>clicks</td>\n",
       "    </tr>\n",
       "  </tbody>\n",
       "</table>\n",
       "</div>"
      ],
      "text/plain": [
       "       session  aid_x    aid_y           ts_x  type_y\n",
       "2688  14536702  10357  1196569  1662324443085  clicks\n",
       "2689  14536702  10357  1716469  1662324443085  clicks\n",
       "2690  14536702  10357  1019678  1662324443085  clicks\n",
       "2692  14536702  10357   229849  1662324443085  clicks\n",
       "2693  14536702  10357   482569  1662324443085  clicks\n",
       "2694  14536702  10357   532827  1662324443085  clicks\n",
       "2695  14536702  10357   940014  1662324443085  clicks\n",
       "2696  14536702  10357   770650  1662324443085  clicks\n",
       "2698  14536702  10357   214671  1662324443085  clicks\n",
       "2699  14536702  10357  1628069  1662324443085  clicks\n",
       "2705  14536702  10357   463427  1662324443085  clicks\n",
       "2706  14536702  10357   335025  1662324443085  clicks\n",
       "2707  14536702  10357   360527  1662324443085  clicks\n",
       "2709  14536702  10357  1438000  1662324443085  clicks\n",
       "2710  14536702  10357   838400  1662324443085  clicks\n",
       "2714  14536702  10357   870366  1662324443085  clicks\n",
       "2715  14536702  10357  1640538  1662324443085  clicks\n",
       "2717  14536702  10357   305332  1662324443085  clicks\n",
       "2718  14536702  10357  1124974  1662324443085  clicks\n",
       "2721  14536702  10357  1110456  1662324443085  clicks\n",
       "2726  14536702  10357  1394329  1662324443085  clicks\n",
       "2728  14536702  10357   819992  1662324443085  clicks\n",
       "2729  14536702  10357  1273367  1662324443085  clicks\n",
       "2733  14536702  10357   592041  1662324443085  clicks\n",
       "2735  14536702  10357   365958  1662324443085  clicks\n",
       "2739  14536702  10357  1541658  1662324443085  clicks\n",
       "2741  14536702  10357   835617  1662324443085  clicks\n",
       "2746  14536702  10357   857579  1662324443085  clicks\n",
       "2758  14536702  10357   721434  1662324443085  clicks\n",
       "2759  14536702  10357   683869  1662324443085  clicks"
      ]
     },
     "execution_count": 89,
     "metadata": {},
     "output_type": "execute_result"
    }
   ],
   "source": [
    "a = test_df[test_df[\"session\"] == 14536702]\n",
    "a = a.merge(a, on=\"session\")\n",
    "a = a[(a[\"aid_x\"] != a[\"aid_y\"])]\n",
    "a[\"days_elapsed\"] = abs(a[\"ts_x\"] - a[\"ts_y\"]) < 24 * 60 * 60 * 1000\n",
    "a = a[a[\"days_elapsed\"] == True][['session', 'aid_x', 'aid_y', 'ts_x', 'type_y']].drop_duplicates(['session', 'aid_x', 'aid_y'])\n",
    "a[a[\"aid_x\"] == 10357]"
   ]
  },
  {
   "cell_type": "code",
   "execution_count": 52,
   "metadata": {},
   "outputs": [
    {
     "data": {
      "text/plain": [
       "{12911752,\n",
       " 12955034,\n",
       " 12975575,\n",
       " 13001414,\n",
       " 13002929,\n",
       " 13007872,\n",
       " 13086982,\n",
       " 13091290,\n",
       " 13132452,\n",
       " 13152390,\n",
       " 13154863,\n",
       " 13164756,\n",
       " 13191650,\n",
       " 13197193,\n",
       " 13213805,\n",
       " 13241338,\n",
       " 13252199,\n",
       " 13284745,\n",
       " 13296333,\n",
       " 13318699,\n",
       " 13336536,\n",
       " 13382884,\n",
       " 13383637,\n",
       " 13385137,\n",
       " 13387720,\n",
       " 13472551,\n",
       " 13473366,\n",
       " 13498183,\n",
       " 13506257,\n",
       " 13513662,\n",
       " 13522732,\n",
       " 13568916,\n",
       " 13585284,\n",
       " 13592044,\n",
       " 13598867,\n",
       " 13612625,\n",
       " 13642124,\n",
       " 13656324,\n",
       " 13678857,\n",
       " 13701527,\n",
       " 13712408,\n",
       " 13731459,\n",
       " 13760834,\n",
       " 13821368,\n",
       " 13830682,\n",
       " 13844795,\n",
       " 13846449,\n",
       " 13862179,\n",
       " 13864579,\n",
       " 13900530,\n",
       " 13963249,\n",
       " 13998906,\n",
       " 14035628,\n",
       " 14052032,\n",
       " 14062040,\n",
       " 14063766,\n",
       " 14070143,\n",
       " 14085033,\n",
       " 14102531,\n",
       " 14106124,\n",
       " 14115152,\n",
       " 14117046,\n",
       " 14118929,\n",
       " 14125897,\n",
       " 14132299,\n",
       " 14141659,\n",
       " 14164674,\n",
       " 14206424,\n",
       " 14208763,\n",
       " 14212927,\n",
       " 14295428,\n",
       " 14302392,\n",
       " 14311387,\n",
       " 14352634,\n",
       " 14355096,\n",
       " 14379025,\n",
       " 14397375,\n",
       " 14415770,\n",
       " 14440013,\n",
       " 14464939,\n",
       " 14496226,\n",
       " 14527438,\n",
       " 14540026,\n",
       " 14540582,\n",
       " 14542997,\n",
       " 14543628,\n",
       " 14549062}"
      ]
     },
     "execution_count": 52,
     "metadata": {},
     "output_type": "execute_result"
    }
   ],
   "source": [
    "set(sessions) - set(top_40_sessions)"
   ]
  },
  {
   "cell_type": "code",
   "execution_count": 33,
   "metadata": {},
   "outputs": [
    {
     "data": {
      "text/plain": [
       "1671803"
      ]
     },
     "execution_count": 33,
     "metadata": {},
     "output_type": "execute_result"
    }
   ],
   "source": [
    "multiindex_df = test_df.copy()\n",
    "multiindex_df.index = pd.MultiIndex.from_frame(test_df[[\"session\"]])\n",
    "multiindex_df[\"session\"].unique().shape[0]"
   ]
  },
  {
   "attachments": {},
   "cell_type": "markdown",
   "metadata": {},
   "source": [
    "### test set inference"
   ]
  },
  {
   "cell_type": "code",
   "execution_count": 8,
   "metadata": {},
   "outputs": [],
   "source": [
    "top_40_cnt = {aid: Counter(dict(top)) for aid, top in top_40.items()}"
   ]
  },
  {
   "cell_type": "code",
   "execution_count": 19,
   "metadata": {},
   "outputs": [],
   "source": [
    "def suggest_aids(df):\n",
    "    aids = df.tail(20).aid.tolist()\n",
    "    \n",
    "    if len(aids) >= 20:\n",
    "        # We have enough events in the test session\n",
    "        return aids\n",
    "    \n",
    "    # Append it with AIDs from the co-visitation matrix. \n",
    "    aids = set(aids)\n",
    "    new_aids = Counter()\n",
    "    for aid in aids:\n",
    "        new_aids.update(top_40_cnt.get(aid))\n",
    "    \n",
    "    top_aids2 = [aid2 for aid2, cnt in new_aids.most_common(20) if aid2 not in aids]        \n",
    "    return list(aids) + top_aids2[:20 - len(aids)]"
   ]
  },
  {
   "cell_type": "code",
   "execution_count": 20,
   "metadata": {},
   "outputs": [
    {
     "data": {
      "text/plain": [
       "session\n",
       "12899779                                              [59625]\n",
       "12899780    [1142000, 736515, 582732, 973453, 1502122, 158...\n",
       "12899781    [199008, 57315, 141736, 918667, 194067, 146057...\n",
       "12899782    [406001, 889671, 834354, 889671, 1099390, 9873...\n",
       "12899783    [255297, 1114789, 1817895, 198385, 1729553, 17...\n",
       "dtype: object"
      ]
     },
     "execution_count": 20,
     "metadata": {},
     "output_type": "execute_result"
    }
   ],
   "source": [
    "pred_df = test_df.sort_values([\"session\", \"type\", \"ts\"]).groupby([\"session\"]).apply(\n",
    "    lambda x: suggest_aids(x)\n",
    ")\n",
    "pred_df.head()"
   ]
  },
  {
   "cell_type": "code",
   "execution_count": 31,
   "metadata": {},
   "outputs": [
    {
     "data": {
      "application/vnd.jupyter.widget-view+json": {
       "model_id": "045bf52ccbb1476da1fa078acb32ad80",
       "version_major": 2,
       "version_minor": 0
      },
      "text/plain": [
       "  0%|          | 0/1671803 [00:00<?, ?it/s]"
      ]
     },
     "metadata": {},
     "output_type": "display_data"
    },
    {
     "data": {
      "text/html": [
       "<div>\n",
       "<style scoped>\n",
       "    .dataframe tbody tr th:only-of-type {\n",
       "        vertical-align: middle;\n",
       "    }\n",
       "\n",
       "    .dataframe tbody tr th {\n",
       "        vertical-align: top;\n",
       "    }\n",
       "\n",
       "    .dataframe thead th {\n",
       "        text-align: right;\n",
       "    }\n",
       "</style>\n",
       "<table border=\"1\" class=\"dataframe\">\n",
       "  <thead>\n",
       "    <tr style=\"text-align: right;\">\n",
       "      <th></th>\n",
       "      <th>session_type</th>\n",
       "      <th>labels</th>\n",
       "    </tr>\n",
       "  </thead>\n",
       "  <tbody>\n",
       "    <tr>\n",
       "      <th>0</th>\n",
       "      <td>12899779_clicks</td>\n",
       "      <td>59625</td>\n",
       "    </tr>\n",
       "    <tr>\n",
       "      <th>1</th>\n",
       "      <td>12899779_carts</td>\n",
       "      <td>59625</td>\n",
       "    </tr>\n",
       "    <tr>\n",
       "      <th>2</th>\n",
       "      <td>12899779_orders</td>\n",
       "      <td>59625</td>\n",
       "    </tr>\n",
       "    <tr>\n",
       "      <th>3</th>\n",
       "      <td>12899780_clicks</td>\n",
       "      <td>1142000 736515 582732 973453 1502122 1586171 4...</td>\n",
       "    </tr>\n",
       "    <tr>\n",
       "      <th>4</th>\n",
       "      <td>12899780_carts</td>\n",
       "      <td>1142000 736515 582732 973453 1502122 1586171 4...</td>\n",
       "    </tr>\n",
       "    <tr>\n",
       "      <th>...</th>\n",
       "      <td>...</td>\n",
       "      <td>...</td>\n",
       "    </tr>\n",
       "    <tr>\n",
       "      <th>5015404</th>\n",
       "      <td>14571580_carts</td>\n",
       "      <td>202353</td>\n",
       "    </tr>\n",
       "    <tr>\n",
       "      <th>5015405</th>\n",
       "      <td>14571580_orders</td>\n",
       "      <td>202353</td>\n",
       "    </tr>\n",
       "    <tr>\n",
       "      <th>5015406</th>\n",
       "      <td>14571581_clicks</td>\n",
       "      <td>1100210 219925 1547466 462056 1571699 618373 1...</td>\n",
       "    </tr>\n",
       "    <tr>\n",
       "      <th>5015407</th>\n",
       "      <td>14571581_carts</td>\n",
       "      <td>1100210 219925 1547466 462056 1571699 618373 1...</td>\n",
       "    </tr>\n",
       "    <tr>\n",
       "      <th>5015408</th>\n",
       "      <td>14571581_orders</td>\n",
       "      <td>1100210 219925 1547466 462056 1571699 618373 1...</td>\n",
       "    </tr>\n",
       "  </tbody>\n",
       "</table>\n",
       "<p>5015409 rows × 2 columns</p>\n",
       "</div>"
      ],
      "text/plain": [
       "            session_type                                             labels\n",
       "0        12899779_clicks                                              59625\n",
       "1         12899779_carts                                              59625\n",
       "2        12899779_orders                                              59625\n",
       "3        12899780_clicks  1142000 736515 582732 973453 1502122 1586171 4...\n",
       "4         12899780_carts  1142000 736515 582732 973453 1502122 1586171 4...\n",
       "...                  ...                                                ...\n",
       "5015404   14571580_carts                                             202353\n",
       "5015405  14571580_orders                                             202353\n",
       "5015406  14571581_clicks  1100210 219925 1547466 462056 1571699 618373 1...\n",
       "5015407   14571581_carts  1100210 219925 1547466 462056 1571699 618373 1...\n",
       "5015408  14571581_orders  1100210 219925 1547466 462056 1571699 618373 1...\n",
       "\n",
       "[5015409 rows x 2 columns]"
      ]
     },
     "execution_count": 31,
     "metadata": {},
     "output_type": "execute_result"
    }
   ],
   "source": [
    "data_list = []\n",
    "\n",
    "for session_id, sorted_aids in tqdm(pred_df.reset_index().to_numpy()):\n",
    "    sorted_aids_20_str = \" \".join(map(str, sorted_aids))\n",
    "    data_list.append([f\"{session_id}_clicks\", sorted_aids_20_str])\n",
    "    data_list.append([f\"{session_id}_carts\", sorted_aids_20_str])\n",
    "    data_list.append([f\"{session_id}_orders\", sorted_aids_20_str])\n",
    "\n",
    "submit_df = pd.DataFrame(data_list, columns=[\"session_type\", \"labels\"])\n",
    "submit_df"
   ]
  },
  {
   "cell_type": "code",
   "execution_count": 33,
   "metadata": {},
   "outputs": [],
   "source": [
    "Path(\"../../output/exp003\").mkdir(exist_ok=True)\n",
    "submit_df.to_csv(\"../../output/exp003/sub_exp003_sampling_100.csv\", index=False)"
   ]
  },
  {
   "cell_type": "code",
   "execution_count": null,
   "metadata": {},
   "outputs": [],
   "source": []
  }
 ],
 "metadata": {
  "kernelspec": {
   "display_name": "Python 3.8.8 ('.venv': poetry)",
   "language": "python",
   "name": "python3"
  },
  "language_info": {
   "codemirror_mode": {
    "name": "ipython",
    "version": 3
   },
   "file_extension": ".py",
   "mimetype": "text/x-python",
   "name": "python",
   "nbconvert_exporter": "python",
   "pygments_lexer": "ipython3",
   "version": "3.8.8"
  },
  "orig_nbformat": 4,
  "vscode": {
   "interpreter": {
    "hash": "4fd02204a2d48f9e11881ad62ba0ed1fb6f42005975222c313d1f69ba9097e70"
   }
  }
 },
 "nbformat": 4,
 "nbformat_minor": 2
}
