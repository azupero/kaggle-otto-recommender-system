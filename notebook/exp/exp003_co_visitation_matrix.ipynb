{
 "cells": [
  {
   "cell_type": "code",
   "execution_count": 1,
   "metadata": {},
   "outputs": [],
   "source": [
    "import numpy as np\n",
    "import pandas as pd\n",
    "from collections import Counter, defaultdict\n",
    "\n",
    "from pathlib import Path\n",
    "from tqdm.auto import tqdm\n",
    "import multiprocessing\n",
    "import gc\n",
    "import glob\n",
    "\n",
    "import warnings\n",
    "warnings.filterwarnings('ignore')\n",
    "\n",
    "DEBUG = False  \n",
    "SAMPLING = 100  # Reduce it to improve performance\n",
    "INPUT_DIR = Path(\"../../input\")"
   ]
  },
  {
   "cell_type": "code",
   "execution_count": 6,
   "metadata": {},
   "outputs": [],
   "source": [
    "def get_input_data(input_dir: Path, phase: str):\n",
    "    dfs = []\n",
    "    for path in sorted(list(input_dir.glob(f\"{phase}_parquet/*.parquet\"))):\n",
    "        dfs.append(pd.read_parquet(path))\n",
    "    \n",
    "    return pd.concat(dfs, axis=0).astype({\"ts\": \"datetime64[ms]\"})\n",
    "\n",
    "# train_df = get_input_data(INPUT_DIR, \"train\")\n",
    "test_df = get_input_data(INPUT_DIR, \"test\")"
   ]
  },
  {
   "attachments": {},
   "cell_type": "markdown",
   "metadata": {},
   "source": [
    "### generate aid pairs"
   ]
  },
  {
   "cell_type": "code",
   "execution_count": 2,
   "metadata": {},
   "outputs": [],
   "source": [
    "def gen_pairs(df):\n",
    "    df = df.query('session % @SAMPLING == 0').groupby('session', as_index=False, sort=False).apply(lambda g: g.tail(30)).reset_index(drop=True)\n",
    "    df = pd.merge(df, df, on='session')\n",
    "    pairs = df.query('abs(ts_x - ts_y) < 24 * 60 * 60 * 1000 and aid_x != aid_y')[['session', 'aid_x', 'aid_y']].drop_duplicates()\n",
    "    \n",
    "    return pairs[['aid_x', 'aid_y']].to_numpy()\n",
    "\n",
    "\n",
    "def gen_aid_pairs():\n",
    "    all_pairs = defaultdict(lambda: Counter())\n",
    "    all_pair_chunks = []\n",
    "\n",
    "    with tqdm(glob.glob('../../input/*_parquet/*'), desc='Chunks') as prog:\n",
    "        for idx, chunk_file in enumerate(prog):\n",
    "        # for idx, chunk_file in enumerate(tqdm(sorted(list(INPUT_DIR.glob(f\"*_parquet/*.parquet\"))))):\n",
    "            with multiprocessing.get_context(\"fork\").Pool(4) as p:\n",
    "                chunk = pd.read_parquet(chunk_file).drop(columns=['type'])\n",
    "                pair_chunks = p.map(gen_pairs, np.array_split(chunk, 120))            \n",
    "                pair_chunks = np.concatenate(pair_chunks, axis=0)\n",
    "                all_pair_chunks.append(pair_chunks)\n",
    "\n",
    "                if DEBUG and idx >= 3:\n",
    "                    break\n",
    "                del chunk, pair_chunks\n",
    "                gc.collect()\n",
    "\n",
    "    df = pd.DataFrame(data=np.concatenate(all_pair_chunks), columns=['aid1', 'aid2'])\n",
    "    top_aids = df.groupby('aid1').apply(lambda df: Counter(df.aid2).most_common(40)).to_dict()\n",
    "\n",
    "    return top_aids"
   ]
  },
  {
   "cell_type": "code",
   "execution_count": 4,
   "metadata": {},
   "outputs": [
    {
     "data": {
      "text/plain": [
       "332929"
      ]
     },
     "execution_count": 4,
     "metadata": {},
     "output_type": "execute_result"
    }
   ],
   "source": [
    "top_40 = gen_aid_pairs()\n",
    "len(top_40)"
   ]
  },
  {
   "cell_type": "code",
   "execution_count": null,
   "metadata": {},
   "outputs": [],
   "source": [
    "# import ray\n",
    "# ray.init(num_cpus=4)"
   ]
  },
  {
   "cell_type": "code",
   "execution_count": null,
   "metadata": {},
   "outputs": [],
   "source": [
    "# @ray.remote\n",
    "# def gen_pairs_ray(df):\n",
    "#     SAMPLING = 1000\n",
    "#     df = df.query('session % @SAMPLING == 0').groupby('session', as_index=False, sort=False).apply(lambda g: g.tail(30)).reset_index(drop=True)\n",
    "#     df = pd.merge(df, df, on='session')\n",
    "#     pairs = df.query('abs(ts_x - ts_y) < 24 * 60 * 60 * 1000 and aid_x != aid_y')[['session', 'aid_x', 'aid_y']].drop_duplicates()\n",
    "    \n",
    "#     return pairs[['aid_x', 'aid_y']].to_numpy()\n",
    "\n",
    "# def gen_aid_pairs_ray():\n",
    "#     all_pairs = defaultdict(lambda: Counter())\n",
    "#     all_pair_chunks = []\n",
    "\n",
    "#     with tqdm(glob.glob('../../input/*_parquet/*'), desc='Chunks') as prog:\n",
    "#         for idx, chunk_file in enumerate(prog):\n",
    "#             chunk = pd.read_parquet(chunk_file).drop(columns=['type'])\n",
    "#             pair_chunks = ray.get([gen_pairs_ray.remote(i) for i in np.array_split(chunk, 120)])\n",
    "#             # pair_chunks = p.map(gen_pairs, np.array_split(chunk, 120)) \n",
    "#             pair_chunks = np.concatenate(pair_chunks, axis=0)\n",
    "#             all_pair_chunks.append(pair_chunks)\n",
    "\n",
    "#             if DEBUG and idx >= 3:\n",
    "#                 break\n",
    "#             del chunk, pair_chunks\n",
    "#             gc.collect()\n",
    "\n",
    "#     df = pd.DataFrame(data=np.concatenate(all_pair_chunks), columns=['aid1', 'aid2'])\n",
    "#     top_aids = df.groupby('aid1').apply(lambda df: Counter(df.aid2).most_common(40)).to_dict()\n",
    "\n",
    "#     return top_aids"
   ]
  },
  {
   "attachments": {},
   "cell_type": "markdown",
   "metadata": {},
   "source": [
    "### test set inference"
   ]
  },
  {
   "cell_type": "code",
   "execution_count": 8,
   "metadata": {},
   "outputs": [],
   "source": [
    "top_40_cnt = {aid: Counter(dict(top)) for aid, top in top_40.items()}"
   ]
  },
  {
   "cell_type": "code",
   "execution_count": 19,
   "metadata": {},
   "outputs": [],
   "source": [
    "def suggest_aids(df):\n",
    "    aids = df.tail(20).aid.tolist()\n",
    "    \n",
    "    if len(aids) >= 20:\n",
    "        # We have enough events in the test session\n",
    "        return aids\n",
    "    \n",
    "    # Append it with AIDs from the co-visitation matrix. \n",
    "    aids = set(aids)\n",
    "    new_aids = Counter()\n",
    "    for aid in aids:\n",
    "        new_aids.update(top_40_cnt.get(aid))\n",
    "    \n",
    "    top_aids2 = [aid2 for aid2, cnt in new_aids.most_common(20) if aid2 not in aids]        \n",
    "    return list(aids) + top_aids2[:20 - len(aids)]"
   ]
  },
  {
   "cell_type": "code",
   "execution_count": 20,
   "metadata": {},
   "outputs": [
    {
     "data": {
      "text/plain": [
       "session\n",
       "12899779                                              [59625]\n",
       "12899780    [1142000, 736515, 582732, 973453, 1502122, 158...\n",
       "12899781    [199008, 57315, 141736, 918667, 194067, 146057...\n",
       "12899782    [406001, 889671, 834354, 889671, 1099390, 9873...\n",
       "12899783    [255297, 1114789, 1817895, 198385, 1729553, 17...\n",
       "dtype: object"
      ]
     },
     "execution_count": 20,
     "metadata": {},
     "output_type": "execute_result"
    }
   ],
   "source": [
    "pred_df = test_df.sort_values([\"session\", \"type\", \"ts\"]).groupby([\"session\"]).apply(\n",
    "    lambda x: suggest_aids(x)\n",
    ")\n",
    "pred_df.head()"
   ]
  },
  {
   "cell_type": "code",
   "execution_count": 31,
   "metadata": {},
   "outputs": [
    {
     "data": {
      "application/vnd.jupyter.widget-view+json": {
       "model_id": "045bf52ccbb1476da1fa078acb32ad80",
       "version_major": 2,
       "version_minor": 0
      },
      "text/plain": [
       "  0%|          | 0/1671803 [00:00<?, ?it/s]"
      ]
     },
     "metadata": {},
     "output_type": "display_data"
    },
    {
     "data": {
      "text/html": [
       "<div>\n",
       "<style scoped>\n",
       "    .dataframe tbody tr th:only-of-type {\n",
       "        vertical-align: middle;\n",
       "    }\n",
       "\n",
       "    .dataframe tbody tr th {\n",
       "        vertical-align: top;\n",
       "    }\n",
       "\n",
       "    .dataframe thead th {\n",
       "        text-align: right;\n",
       "    }\n",
       "</style>\n",
       "<table border=\"1\" class=\"dataframe\">\n",
       "  <thead>\n",
       "    <tr style=\"text-align: right;\">\n",
       "      <th></th>\n",
       "      <th>session_type</th>\n",
       "      <th>labels</th>\n",
       "    </tr>\n",
       "  </thead>\n",
       "  <tbody>\n",
       "    <tr>\n",
       "      <th>0</th>\n",
       "      <td>12899779_clicks</td>\n",
       "      <td>59625</td>\n",
       "    </tr>\n",
       "    <tr>\n",
       "      <th>1</th>\n",
       "      <td>12899779_carts</td>\n",
       "      <td>59625</td>\n",
       "    </tr>\n",
       "    <tr>\n",
       "      <th>2</th>\n",
       "      <td>12899779_orders</td>\n",
       "      <td>59625</td>\n",
       "    </tr>\n",
       "    <tr>\n",
       "      <th>3</th>\n",
       "      <td>12899780_clicks</td>\n",
       "      <td>1142000 736515 582732 973453 1502122 1586171 4...</td>\n",
       "    </tr>\n",
       "    <tr>\n",
       "      <th>4</th>\n",
       "      <td>12899780_carts</td>\n",
       "      <td>1142000 736515 582732 973453 1502122 1586171 4...</td>\n",
       "    </tr>\n",
       "    <tr>\n",
       "      <th>...</th>\n",
       "      <td>...</td>\n",
       "      <td>...</td>\n",
       "    </tr>\n",
       "    <tr>\n",
       "      <th>5015404</th>\n",
       "      <td>14571580_carts</td>\n",
       "      <td>202353</td>\n",
       "    </tr>\n",
       "    <tr>\n",
       "      <th>5015405</th>\n",
       "      <td>14571580_orders</td>\n",
       "      <td>202353</td>\n",
       "    </tr>\n",
       "    <tr>\n",
       "      <th>5015406</th>\n",
       "      <td>14571581_clicks</td>\n",
       "      <td>1100210 219925 1547466 462056 1571699 618373 1...</td>\n",
       "    </tr>\n",
       "    <tr>\n",
       "      <th>5015407</th>\n",
       "      <td>14571581_carts</td>\n",
       "      <td>1100210 219925 1547466 462056 1571699 618373 1...</td>\n",
       "    </tr>\n",
       "    <tr>\n",
       "      <th>5015408</th>\n",
       "      <td>14571581_orders</td>\n",
       "      <td>1100210 219925 1547466 462056 1571699 618373 1...</td>\n",
       "    </tr>\n",
       "  </tbody>\n",
       "</table>\n",
       "<p>5015409 rows × 2 columns</p>\n",
       "</div>"
      ],
      "text/plain": [
       "            session_type                                             labels\n",
       "0        12899779_clicks                                              59625\n",
       "1         12899779_carts                                              59625\n",
       "2        12899779_orders                                              59625\n",
       "3        12899780_clicks  1142000 736515 582732 973453 1502122 1586171 4...\n",
       "4         12899780_carts  1142000 736515 582732 973453 1502122 1586171 4...\n",
       "...                  ...                                                ...\n",
       "5015404   14571580_carts                                             202353\n",
       "5015405  14571580_orders                                             202353\n",
       "5015406  14571581_clicks  1100210 219925 1547466 462056 1571699 618373 1...\n",
       "5015407   14571581_carts  1100210 219925 1547466 462056 1571699 618373 1...\n",
       "5015408  14571581_orders  1100210 219925 1547466 462056 1571699 618373 1...\n",
       "\n",
       "[5015409 rows x 2 columns]"
      ]
     },
     "execution_count": 31,
     "metadata": {},
     "output_type": "execute_result"
    }
   ],
   "source": [
    "data_list = []\n",
    "\n",
    "for session_id, sorted_aids in tqdm(pred_df.reset_index().to_numpy()):\n",
    "    sorted_aids_20_str = \" \".join(map(str, sorted_aids))\n",
    "    data_list.append([f\"{session_id}_clicks\", sorted_aids_20_str])\n",
    "    data_list.append([f\"{session_id}_carts\", sorted_aids_20_str])\n",
    "    data_list.append([f\"{session_id}_orders\", sorted_aids_20_str])\n",
    "\n",
    "submit_df = pd.DataFrame(data_list, columns=[\"session_type\", \"labels\"])\n",
    "submit_df"
   ]
  },
  {
   "cell_type": "code",
   "execution_count": 33,
   "metadata": {},
   "outputs": [],
   "source": [
    "Path(\"../../output/exp003\").mkdir(exist_ok=True)\n",
    "submit_df.to_csv(\"../../output/exp003/sub_exp003_sampling_100.csv\", index=False)"
   ]
  },
  {
   "cell_type": "code",
   "execution_count": null,
   "metadata": {},
   "outputs": [],
   "source": []
  }
 ],
 "metadata": {
  "kernelspec": {
   "display_name": "Python 3.8.8 ('.venv': poetry)",
   "language": "python",
   "name": "python3"
  },
  "language_info": {
   "codemirror_mode": {
    "name": "ipython",
    "version": 3
   },
   "file_extension": ".py",
   "mimetype": "text/x-python",
   "name": "python",
   "nbconvert_exporter": "python",
   "pygments_lexer": "ipython3",
   "version": "3.8.8"
  },
  "orig_nbformat": 4,
  "vscode": {
   "interpreter": {
    "hash": "4fd02204a2d48f9e11881ad62ba0ed1fb6f42005975222c313d1f69ba9097e70"
   }
  }
 },
 "nbformat": 4,
 "nbformat_minor": 2
}
